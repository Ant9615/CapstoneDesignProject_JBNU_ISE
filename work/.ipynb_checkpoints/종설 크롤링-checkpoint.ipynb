{
 "cells": [
  {
   "cell_type": "code",
   "execution_count": 5,
   "metadata": {},
   "outputs": [],
   "source": [
    "from selenium import webdriver\n",
    "from selenium.webdriver.common.keys import Keys\n",
    "from selenium.webdriver.common.action_chains import ActionChains\n",
    "import time\n",
    "import requests; from urllib.parse import urlparse\n",
    "import pandas as pd"
   ]
  },
  {
   "cell_type": "code",
   "execution_count": 2,
   "metadata": {},
   "outputs": [],
   "source": [
    "def search(find):\n",
    "    time.sleep(10)\n",
    "\n",
    "    driver = webdriver.Chrome(\n",
    "        executable_path= \"./chromedriver.exe\"\n",
    "    )\n",
    "    url = \"https://m.map.naver.com/\"\n",
    "    driver.get(url)\n",
    "    action = ActionChains(driver)\n",
    "\n",
    "    time.sleep(4)\n",
    "    driver.find_element_by_class_name('Nbox_input_text').click()\n",
    "\n",
    "    driver.find_element_by_class_name('Nbox_input_text._search_input').send_keys(find)\n",
    "    driver.find_element_by_xpath('//*[@id=\"ct\"]/div[1]/div[1]/form/div/div[2]/div/span[2]/button[2]').click()\n",
    "\n",
    "    time.sleep(4)\n",
    "    replys =driver.find_elements_by_xpath('//*[@id=\"ct\"]/div[2]/ul/li')\n",
    "    print(len(replys))\n",
    "\n",
    "    results = []\n",
    "    for index, reply in enumerate(replys):\n",
    "            name = reply.find_element_by_css_selector('div.item_tit').text\n",
    "            address =reply.find_element_by_css_selector('div.wrap_item').text.split('\\n')[2]\n",
    "            results.append((name, address))\n",
    "    return results"
   ]
  },
  {
   "cell_type": "code",
   "execution_count": 3,
   "metadata": {},
   "outputs": [
    {
     "name": "stdout",
     "output_type": "stream",
     "text": [
      "75\n",
      "75\n",
      "75\n"
     ]
    }
   ],
   "source": [
    "kew = ['전주한옥마을 음식점', '전주한옥마을 카페','전주한옥마을 숙박']\n",
    "dfvari = ['res', 'caffe', 'rest']\n",
    "for i in range(len(kew)):\n",
    "    dfvari[i] = search(kew[i])"
   ]
  },
  {
   "cell_type": "code",
   "execution_count": 6,
   "metadata": {},
   "outputs": [],
   "source": [
    "restaurant = pd.DataFrame(dfvari[0], columns=['name','address'])\n",
    "caffe = pd.DataFrame(dfvari[1], columns=['name','address'])\n",
    "rest = pd.DataFrame(dfvari[2], columns=['name','address'])"
   ]
  },
  {
   "cell_type": "code",
   "execution_count": 9,
   "metadata": {},
   "outputs": [
    {
     "data": {
      "text/plain": [
       "'C:\\\\Users\\\\rudal\\\\OneDrive\\\\바탕 화면\\\\Work\\\\FinalProject_JBNU_ISE\\\\work'"
      ]
     },
     "execution_count": 9,
     "metadata": {},
     "output_type": "execute_result"
    }
   ],
   "source": [
    "import os \n",
    "os.getcwd()"
   ]
  },
  {
   "cell_type": "code",
   "execution_count": 13,
   "metadata": {},
   "outputs": [],
   "source": [
    "res = pd.read_excel('./res.xlsx')\n",
    "caffe = pd.read_excel('./caffe.xlsx')"
   ]
  },
  {
   "cell_type": "code",
   "execution_count": 15,
   "metadata": {},
   "outputs": [],
   "source": [
    "res_1 = pd.concat([res, caffe], ignore_index=True, axis=0)\n",
    "res_1 = res_1.drop_duplicates(['name'], keep = 'last')\n",
    "res_1.to_excel('./res_1.xlsx')"
   ]
  }
 ],
 "metadata": {
  "kernelspec": {
   "display_name": "Python 3",
   "language": "python",
   "name": "python3"
  },
  "language_info": {
   "codemirror_mode": {
    "name": "ipython",
    "version": 3
   },
   "file_extension": ".py",
   "mimetype": "text/x-python",
   "name": "python",
   "nbconvert_exporter": "python",
   "pygments_lexer": "ipython3",
   "version": "3.8.5"
  }
 },
 "nbformat": 4,
 "nbformat_minor": 4
}
