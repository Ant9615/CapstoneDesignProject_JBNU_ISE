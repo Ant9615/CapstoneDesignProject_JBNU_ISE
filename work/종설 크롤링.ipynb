{
 "cells": [
  {
   "cell_type": "code",
   "execution_count": 1,
   "metadata": {},
   "outputs": [],
   "source": [
    "from selenium import webdriver\n",
    "from selenium.webdriver.common.keys import Keys\n",
    "from selenium.webdriver.common.action_chains import ActionChains\n",
    "import time\n",
    "import requests; from urllib.parse import urlparse\n",
    "import pandas as pd"
   ]
  },
  {
   "cell_type": "code",
   "execution_count": 2,
   "metadata": {},
   "outputs": [],
   "source": [
    "def search(find):\n",
    "    time.sleep(10)\n",
    "\n",
    "    driver = webdriver.Chrome(\n",
    "        executable_path= \"./chromedriver.exe\"\n",
    "    )\n",
    "    url = \"https://m.map.naver.com/\"\n",
    "    driver.get(url)\n",
    "    action = ActionChains(driver)\n",
    "\n",
    "    time.sleep(4)\n",
    "    driver.find_element_by_class_name('Nbox_input_text').click()\n",
    "\n",
    "    driver.find_element_by_class_name('Nbox_input_text._search_input').send_keys(find)\n",
    "    driver.find_element_by_xpath('//*[@id=\"ct\"]/div[1]/div[1]/form/div/div[2]/div/span[2]/button[2]').click()\n",
    "\n",
    "    time.sleep(4)\n",
    "    replys =driver.find_elements_by_xpath('//*[@id=\"ct\"]/div[2]/ul/li')\n",
    "    print(len(replys))\n",
    "\n",
    "    results = []\n",
    "    for index, reply in enumerate(replys):\n",
    "            name = reply.find_element_by_css_selector('div.item_tit').text\n",
    "            address =reply.find_element_by_css_selector('div.wrap_item').text.split('\\n')[2]\n",
    "            results.append((name, address))\n",
    "    return results"
   ]
  },
  {
   "cell_type": "code",
   "execution_count": 11,
   "metadata": {},
   "outputs": [
    {
     "name": "stdout",
     "output_type": "stream",
     "text": [
      "75\n",
      "75\n",
      "75\n"
     ]
    }
   ],
   "source": [
    "kew = ['전주한옥마을 음식점', '전주한옥마을 카페','전주한옥마을 숙박']\n",
    "dfvari = ['res', 'caffe', 'rest']\n",
    "for i in range(len(kew)):\n",
    "    dfvari[i] = search(kew[i])"
   ]
  },
  {
   "cell_type": "code",
   "execution_count": 8,
   "metadata": {},
   "outputs": [
    {
     "data": {
      "text/plain": [
       "[('양반가한정식', '전라북도 전주시 완산구 최명희길 30-2 양반가'),\n",
       " ('다우랑만두', '전라북도 전주시 완산구 태조로 33'),\n",
       " ('한국집비빔밥', '전라북도 전주시 완산구 어진길 119'),\n",
       " ('차경카페,디저트', '전라북도 전주시 완산구 경기전길 61 차경'),\n",
       " ('메르밀진미집 본점국수', '전라북도 전주시 완산구 전주천동로 94 메르밀진미집 본점'),\n",
       " ('전망카페', '전라북도 전주시 완산구 한지길 89 전주한옥마을 전망'),\n",
       " ('45년전통비빔밥종로회관비빔밥', '전라북도 전주시 완산구 전동성당길 98'),\n",
       " ('한울밥상한식', '전라북도 전주시 완산구 기린대로 104'),\n",
       " ('PNB풍년제과 본점베이커리', '전라북도 전주시 완산구 팔달로 180'),\n",
       " ('카페브리즈카페,디저트', '전라북도 전주시 완산구 전동성당길 66'),\n",
       " ('외할머니솜씨차', '전라북도 전주시 완산구 오목대길 81-8'),\n",
       " ('기와한식', '전라북도 전주시 완산구 어진길 15'),\n",
       " ('족떡이네육류,고기요리', '전라북도 전주시 완산구 은행로 65-3'),\n",
       " ('교동떡갈비육류,고기요리', '전라북도 전주시 완산구 은행로 52'),\n",
       " ('전주왱이콩나물국밥전문점국밥', '전라북도 전주시 완산구 동문길 88'),\n",
       " ('옛촌막걸리전통,민속주점', '전라북도 전주시 완산구 팔달로 144-4'),\n",
       " ('남노갈비 본점육류,고기요리', '전라북도 전주시 완산구 한지길 24'),\n",
       " ('베테랑 칼국수종합분식', '전라북도 전주시 완산구 경기전길 135'),\n",
       " ('수제전주초코파이 한옥마을본점베이커리', '전라북도 전주시 완산구 태조로 35'),\n",
       " ('자매갈비전골육류,고기요리', '전라북도 전주시 완산구 기린대로 121'),\n",
       " ('전동떡갈비한식', '전라북도 전주시 완산구 전동성당길 66'),\n",
       " ('카페디쟈트카페,디저트', '전라북도 전주시 완산구 충경로 45'),\n",
       " ('고궁수라간 한옥마을점비빔밥', '전라북도 전주시 완산구 은행로 31'),\n",
       " ('투모로우카페', '전라북도 전주시 완산구 기린대로 71'),\n",
       " ('다문한정식', '전라북도 전주시 완산구 은행로 74-8 다문'),\n",
       " ('구일집 한옥마을본점육류,고기요리', '전라북도 전주시 완산구 동문길 59'),\n",
       " ('노매딕 비어가든맥주,호프', '전라북도 전주시 완산구 향교길 57'),\n",
       " ('교동석갈비한식', '전라북도 전주시 완산구 태조로 26 마패'),\n",
       " ('전주한옥마을전망대카페카페,디저트', '전라북도 전주시 완산구 어진길 15'),\n",
       " ('카페달곰카페,디저트', '전라북도 전주시 완산구 은행로 71'),\n",
       " ('전주전집전,빈대떡', '전라북도 전주시 완산구 동문길 36'),\n",
       " ('풍남정한식', '전라북도 전주시 완산구 태조로 52'),\n",
       " ('1723카페', '전라북도 전주시 완산구 오목대길 83'),\n",
       " ('양식당스파게티,파스타전문', '전라북도 전주시 완산구 풍남문3길 26 1층'),\n",
       " ('교동시래청한식', '전라북도 전주시 완산구 은행로 40'),\n",
       " ('현대옥한옥마을점국밥', '전라북도 전주시 완산구 오목대길 66'),\n",
       " ('느린마을양조장 전주한옥마을점요리주점', '전라북도 전주시 완산구 팔달로 160 1층 101-105호'),\n",
       " ('천년누리봄전통,민속주점', '전라북도 전주시 완산구 경기전길 38-8'),\n",
       " ('한벽집매운탕,해물탕', '전라북도 전주시 완산구 전주천동로 4'),\n",
       " ('경기전막걸리한식', '전라북도 전주시 완산구 전동성당길 78'),\n",
       " ('스타벅스 전주한옥마을점카페', '전라북도 전주시 완산구 팔달로 123'),\n",
       " ('두리반한식', '전라북도 전주시 완산구 최명희길 25'),\n",
       " ('맘앤타르트카페,디저트', '전라북도 전주시 완산구 전동성당길 100'),\n",
       " ('간판없는집요리주점', '전라북도 전주시 완산구 동문길 21'),\n",
       " ('전대전전,빈대떡', '전라북도 전주시 완산구 동문길 21 1층'),\n",
       " ('해태바베큐치킨,닭강정', '전라북도 전주시 완산구 전동성당길 13'),\n",
       " ('교동고로케베이커리', '전라북도 전주시 완산구 경기전길 126'),\n",
       " ('이목대비빔밥', '전라북도 전주시 완산구 한지길 113'),\n",
       " ('교동집중식당', '전라북도 전주시 완산구 향교길 61 교동집'),\n",
       " ('PNB 한옥마을1호점베이커리', '전라북도 전주시 완산구 은행로 61'),\n",
       " ('풍년제과 본점베이커리', '전라북도 전주시 완산구 팔달로 145'),\n",
       " ('두이모 비빔밥와플카페,디저트', '전라북도 전주시 완산구 자만동2길 21 두이모'),\n",
       " ('별아래꽃케이크전문', '전라북도 전주시 완산구 충경로 99-1'),\n",
       " ('대성식품한식', '전라북도 전주시 완산구 팔달로 157-5'),\n",
       " ('소복 전주한옥마을점아이스크림', '전라북도 전주시 완산구 은행로 72-1'),\n",
       " ('천년누리 전주한옥마을점베이커리', '전라북도 전주시 완산구 은행로 45'),\n",
       " ('교동육전한식', '전라북도 전주시 완산구 태조로 25 교동육전'),\n",
       " ('천일베이커리베이커리', '전라북도 전주시 완산구 팔달로 140'),\n",
       " ('전주한옥화과자베이커리', '전라북도 전주시 완산구 경기전길 32'),\n",
       " ('삼양다방다방', '전라북도 전주시 완산구 동문길 94'),\n",
       " ('베이크앤칠베이커리', '전라북도 전주시 완산구 동문길 114'),\n",
       " ('스시유메초밥,롤', '전라북도 전주시 완산구 전라감영5길 12'),\n",
       " ('풍남문막걸리전통,민속주점', '전라북도 전주시 완산구 풍남문2길 37-10 2층'),\n",
       " ('오목대국수', '전라북도 전주시 완산구 기린대로 68-9'),\n",
       " ('한옥가 백련마을한식', '전라북도 전주시 완산구 한지길 95'),\n",
       " ('로띠팜돈가스', '전라북도 전주시 완산구 향교길 27 1층 로띠팜'),\n",
       " ('달인꽈배기베이커리', '전라북도 전주시 완산구 경기전길 125'),\n",
       " ('행원카페,디저트', '전라북도 전주시 완산구 풍남문3길 12 카페행원'),\n",
       " ('화순집매운탕,해물탕', '전라북도 전주시 완산구 기린대로 1-1'),\n",
       " ('오유카페', '전라북도 전주시 완산구 전동성당길 33-6'),\n",
       " ('문꼬치오뎅,꼬치', '전라북도 전주시 완산구 태조로 37'),\n",
       " ('경기전중앙숯불소고기구이', '전라북도 전주시 완산구 풍남동3가 80-1'),\n",
       " ('흐노니카페,디저트', '전라북도 전주시 완산구 경기전길 43'),\n",
       " ('설빙 전주한옥마을점빙수', '전라북도 전주시 완산구 은행로 33'),\n",
       " ('이탈리돈돈가스', '전라북도 전주시 완산구 간납로 4')]"
      ]
     },
     "execution_count": 8,
     "metadata": {},
     "output_type": "execute_result"
    }
   ],
   "source": [
    "dfvari[0]"
   ]
  },
  {
   "cell_type": "code",
   "execution_count": 6,
   "metadata": {},
   "outputs": [],
   "source": [
    "restaurant = pd.DataFrame(dfvari[0], columns=['name','address'])\n",
    "caffe = pd.DataFrame(dfvari[1], columns=['name','address'])\n",
    "rest = pd.DataFrame(dfvari[2], columns=['name','address'])"
   ]
  },
  {
   "cell_type": "code",
   "execution_count": 13,
   "metadata": {},
   "outputs": [],
   "source": [
    "res = pd.read_excel('./res.xlsx')\n",
    "caffe = pd.read_excel('./caffe.xlsx')"
   ]
  },
  {
   "cell_type": "code",
   "execution_count": 20,
   "metadata": {},
   "outputs": [],
   "source": [
    "rest.to_excel('./rest.xlsx')"
   ]
  },
  {
   "cell_type": "code",
   "execution_count": 15,
   "metadata": {},
   "outputs": [],
   "source": [
    "res_1 = pd.concat([res, caffe], ignore_index=True, axis=0)\n",
    "res_1 = res_1.drop_duplicates(['name'], keep = 'last')\n",
    "res_1.to_excel('./res_1.xlsx')"
   ]
  },
  {
   "cell_type": "code",
   "execution_count": 14,
   "metadata": {},
   "outputs": [],
   "source": [
    "res_3 = pd.read_excel('./res_3.xlsx')\n",
    "ar = pd.read_excel('./ar.xlsx')"
   ]
  },
  {
   "cell_type": "code",
   "execution_count": 11,
   "metadata": {},
   "outputs": [
    {
     "data": {
      "text/plain": [
       "Index(['Unnamed: 0', 'name', 'address', 'Latitude', 'Longitude', 'Category'], dtype='object')"
      ]
     },
     "execution_count": 11,
     "metadata": {},
     "output_type": "execute_result"
    }
   ],
   "source": [
    "res_3.columns"
   ]
  },
  {
   "cell_type": "code",
   "execution_count": 15,
   "metadata": {},
   "outputs": [],
   "source": [
    "res_4 = pd.concat([res_3, ar], ignore_index=True, axis=0)\n",
    "res_4 = res_4.drop_duplicates(['name'], keep = 'first')"
   ]
  },
  {
   "cell_type": "code",
   "execution_count": 16,
   "metadata": {},
   "outputs": [],
   "source": [
    "res_4.to_excel('./res_4.xlsx')"
   ]
  }
 ],
 "metadata": {
  "kernelspec": {
   "display_name": "Python 3",
   "language": "python",
   "name": "python3"
  },
  "language_info": {
   "codemirror_mode": {
    "name": "ipython",
    "version": 3
   },
   "file_extension": ".py",
   "mimetype": "text/x-python",
   "name": "python",
   "nbconvert_exporter": "python",
   "pygments_lexer": "ipython3",
   "version": "3.8.5"
  }
 },
 "nbformat": 4,
 "nbformat_minor": 4
}
